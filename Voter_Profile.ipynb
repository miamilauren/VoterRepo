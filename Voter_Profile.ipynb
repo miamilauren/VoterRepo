{
 "cells": [
  {
   "cell_type": "code",
   "execution_count": 10,
   "metadata": {},
   "outputs": [],
   "source": [
    "#Import Packages\n",
    "import pandas as pd\n",
    "import numpy as np\n",
    "from faker import Faker\n",
    "import re as r\n",
    "fake = Faker()"
   ]
  },
  {
   "cell_type": "code",
   "execution_count": 11,
   "metadata": {},
   "outputs": [
    {
     "name": "stdout",
     "output_type": "stream",
     "text": [
      "['Roberto', 'Paul', 'Matthew', 'Shawn', 'Sheena', 'Manuel', 'Denise', 'Yesenia', 'Rebekah', 'Joseph']\n"
     ]
    }
   ],
   "source": [
    "#Create First Name\n",
    "def create_fname(a):\n",
    "    Name1 = []\n",
    "    for _ in range(0,a):\n",
    "        Name1.append(fake.first_name())\n",
    "    return Name1\n",
    "First_Name = create_fname(10)\n",
    "print (First_Name)"
   ]
  },
  {
   "cell_type": "code",
   "execution_count": 12,
   "metadata": {},
   "outputs": [
    {
     "name": "stdout",
     "output_type": "stream",
     "text": [
      "['Aguilar', 'Jennings', 'Miller', 'Mitchell', 'Blankenship', 'Fleming', 'Salas', 'Reed', 'Harrington', 'Villarreal']\n"
     ]
    }
   ],
   "source": [
    "#Create Last Name\n",
    "def create_lname(a):\n",
    "    Name2 = []\n",
    "    for _ in range(0,a):\n",
    "        Name2.append(fake.last_name())\n",
    "    return Name2\n",
    "Last_Name = create_lname(10)\n",
    "print (Last_Name)"
   ]
  },
  {
   "cell_type": "code",
   "execution_count": 13,
   "metadata": {},
   "outputs": [
    {
     "name": "stdout",
     "output_type": "stream",
     "text": [
      "['2765 Lloyd Circle Suite 887', '176 Gomez Turnpike', '18590 Bauer Shores', '032 Morgan Plain', '1588 Olsen Views Suite 667', '8169 Samantha Viaduct Suite 386', '19228 Erickson Estates Apt. 434', '02421 Samuel Stream Suite 586', '3871 Donna Knoll', '14662 Melissa Courts']\n"
     ]
    }
   ],
   "source": [
    "#Create Street Addresses\n",
    "def create_street(a):\n",
    "    Street = []\n",
    "    for _ in range(0,a):\n",
    "        Street.append(fake.street_address())\n",
    "    return Street\n",
    "Street = create_street(10)\n",
    "print (Street)"
   ]
  },
  {
   "cell_type": "code",
   "execution_count": 14,
   "metadata": {},
   "outputs": [
    {
     "name": "stdout",
     "output_type": "stream",
     "text": [
      "['New Brandon', 'Sharonfort', 'North Mary', 'Jonathanland', 'Zacharymouth', 'Port Kevinview', 'Port Kimberly', 'Robertport', 'South Patricktown', 'North Denise']\n"
     ]
    }
   ],
   "source": [
    "#Create City\n",
    "def create_city(a):\n",
    "    city = []\n",
    "    for _ in range(0,a):\n",
    "        city.append(fake.city())\n",
    "    return city\n",
    "city = create_city(10)\n",
    "print(city)"
   ]
  },
  {
   "cell_type": "code",
   "execution_count": 15,
   "metadata": {},
   "outputs": [
    {
     "name": "stdout",
     "output_type": "stream",
     "text": [
      "['West Virginia', 'Mississippi', 'Vermont', 'Wyoming', 'Utah', 'Idaho', 'South Dakota', 'North Dakota', 'Tennessee', 'Wisconsin']\n"
     ]
    }
   ],
   "source": [
    "#Create State\n",
    "def create_state(a):\n",
    "    state = []\n",
    "    for _ in range(0,a):\n",
    "        state.append(fake.state())\n",
    "    return state\n",
    "state = create_state(10)\n",
    "print(state)"
   ]
  },
  {
   "cell_type": "code",
   "execution_count": 16,
   "metadata": {},
   "outputs": [
    {
     "name": "stdout",
     "output_type": "stream",
     "text": [
      "['89358', '08212', '43539', '18652', '80864', '59277', '69989', '03440', '58247', '87342']\n"
     ]
    }
   ],
   "source": [
    "#Create postal code\n",
    "def create_postal(a):\n",
    "    postal = []\n",
    "    for _ in range(0,a):\n",
    "        postal.append(fake.postcode())\n",
    "    return postal\n",
    "PostalCode = create_postal(10)\n",
    "print (PostalCode)"
   ]
  },
  {
   "cell_type": "code",
   "execution_count": 17,
   "metadata": {},
   "outputs": [
    {
     "name": "stdout",
     "output_type": "stream",
     "text": [
      "['United States of America', 'Unites States of America', 'Unites States of America', 'United States of America', 'Unites States of America', 'Unites States of America', 'United States of America', 'United States of America', 'Unites States of America', 'United States of America']\n"
     ]
    }
   ],
   "source": [
    "#create country\n",
    "country = ['Unites States of America', 'United States of America', 'United States of America']\n",
    "def create_america(a):\n",
    "    america = []\n",
    "    for _ in range(0,a):\n",
    "        america.append(fake.word(country))\n",
    "    return america\n",
    "america = create_america(10)\n",
    "print(america)"
   ]
  },
  {
   "cell_type": "code",
   "execution_count": 18,
   "metadata": {},
   "outputs": [
    {
     "name": "stdout",
     "output_type": "stream",
     "text": [
      "['584-956-5662', '536-178-7322', '022-922-6045', '929-036-4860', '766-300-7715', '612-786-4740', '595-614-7421', '520-322-2525', '736-212-1407', '434-473-8103']\n"
     ]
    }
   ],
   "source": [
    "#Create Phone Number\n",
    "def create_phone(a):\n",
    "    phone = []\n",
    "    for _ in range(0,a):\n",
    "        phone.append(fake.numerify('###-###-####'))\n",
    "    return phone\n",
    "phone = create_phone(10)\n",
    "print(phone)"
   ]
  },
  {
   "cell_type": "code",
   "execution_count": 19,
   "metadata": {},
   "outputs": [
    {
     "name": "stdout",
     "output_type": "stream",
     "text": [
      "['donnamyers@yahoo.com', 'cassandra85@gmail.com', 'wyattlisa@gmail.com', 'kevinvillegas@yahoo.com', 'nixondevin@yahoo.com', 'fletcherjennifer@hotmail.com', 'eric55@yahoo.com', 'gmiller@yahoo.com', 'greenannette@gmail.com', 'chenedward@yahoo.com']\n"
     ]
    }
   ],
   "source": [
    "#Create Email\n",
    "def create_email(a):\n",
    "    EmailList = []\n",
    "    for _ in range(0,a):\n",
    "        EmailList.append(fake.free_email())\n",
    "    return EmailList\n",
    "EmailList = create_email(10)\n",
    "print(EmailList)"
   ]
  },
  {
   "cell_type": "code",
   "execution_count": 20,
   "metadata": {},
   "outputs": [
    {
     "name": "stdout",
     "output_type": "stream",
     "text": [
      "['Democrat', 'Not Registered', 'Libertarian', 'Republican', 'Libertarian', 'Democrat', 'Not Registered', 'Libertarian', 'Libertarian', 'Not Registered']\n"
     ]
    }
   ],
   "source": [
    "#Create Party Affiliation\n",
    "Partyaffiliation = ['Democrat', 'Republican', 'Libertarian', 'Independent', 'Not Registered']\n",
    "\n",
    "#print(f'customized unique words: {fake.words(5, Partyaffiliation, True)}')\n",
    "\n",
    "def create_party(a):\n",
    "    PartyList = []\n",
    "    for _ in range(0,a):\n",
    "        PartyList.append(fake.word(Partyaffiliation))\n",
    "    return PartyList\n",
    "Party_Affiliation = create_party(10)\n",
    "print(Party_Affiliation)"
   ]
  },
  {
   "cell_type": "code",
   "execution_count": 21,
   "metadata": {},
   "outputs": [],
   "source": [
    "#Combine it together\n",
    "Voter_Profile = pd.DataFrame(list(zip(First_Name, Last_Name, Street, city, state, PostalCode, america, phone, EmailList, Party_Affiliation)), columns = ['First Name', 'Last Name', 'Street', 'City', 'State', 'Postal Code', 'Country', 'Phone', 'Email', 'Party Affiliation'])"
   ]
  },
  {
   "cell_type": "code",
   "execution_count": 22,
   "metadata": {},
   "outputs": [
    {
     "name": "stdout",
     "output_type": "stream",
     "text": [
      "  First Name    Last Name                           Street               City  \\\n",
      "0    Roberto      Aguilar      2765 Lloyd Circle Suite 887        New Brandon   \n",
      "1       Paul     Jennings               176 Gomez Turnpike         Sharonfort   \n",
      "2    Matthew       Miller               18590 Bauer Shores         North Mary   \n",
      "3      Shawn     Mitchell                 032 Morgan Plain       Jonathanland   \n",
      "4     Sheena  Blankenship       1588 Olsen Views Suite 667       Zacharymouth   \n",
      "5     Manuel      Fleming  8169 Samantha Viaduct Suite 386     Port Kevinview   \n",
      "6     Denise        Salas  19228 Erickson Estates Apt. 434      Port Kimberly   \n",
      "7    Yesenia         Reed    02421 Samuel Stream Suite 586         Robertport   \n",
      "8    Rebekah   Harrington                 3871 Donna Knoll  South Patricktown   \n",
      "9     Joseph   Villarreal             14662 Melissa Courts       North Denise   \n",
      "\n",
      "           State Postal Code                   Country         Phone  \\\n",
      "0  West Virginia       89358  United States of America  584-956-5662   \n",
      "1    Mississippi       08212  Unites States of America  536-178-7322   \n",
      "2        Vermont       43539  Unites States of America  022-922-6045   \n",
      "3        Wyoming       18652  United States of America  929-036-4860   \n",
      "4           Utah       80864  Unites States of America  766-300-7715   \n",
      "5          Idaho       59277  Unites States of America  612-786-4740   \n",
      "6   South Dakota       69989  United States of America  595-614-7421   \n",
      "7   North Dakota       03440  United States of America  520-322-2525   \n",
      "8      Tennessee       58247  Unites States of America  736-212-1407   \n",
      "9      Wisconsin       87342  United States of America  434-473-8103   \n",
      "\n",
      "                          Email Party Affiliation  \n",
      "0          donnamyers@yahoo.com          Democrat  \n",
      "1         cassandra85@gmail.com    Not Registered  \n",
      "2           wyattlisa@gmail.com       Libertarian  \n",
      "3       kevinvillegas@yahoo.com        Republican  \n",
      "4          nixondevin@yahoo.com       Libertarian  \n",
      "5  fletcherjennifer@hotmail.com          Democrat  \n",
      "6              eric55@yahoo.com    Not Registered  \n",
      "7             gmiller@yahoo.com       Libertarian  \n",
      "8        greenannette@gmail.com       Libertarian  \n",
      "9          chenedward@yahoo.com    Not Registered  \n"
     ]
    }
   ],
   "source": [
    "print(Voter_Profile)"
   ]
  },
  {
   "cell_type": "code",
   "execution_count": null,
   "metadata": {},
   "outputs": [],
   "source": []
  }
 ],
 "metadata": {
  "kernelspec": {
   "display_name": "Python 3",
   "language": "python",
   "name": "python3"
  },
  "language_info": {
   "codemirror_mode": {
    "name": "ipython",
    "version": 3
   },
   "file_extension": ".py",
   "mimetype": "text/x-python",
   "name": "python",
   "nbconvert_exporter": "python",
   "pygments_lexer": "ipython3",
   "version": "3.7.9"
  }
 },
 "nbformat": 4,
 "nbformat_minor": 4
}
